{
 "cells": [
  {
   "cell_type": "markdown",
   "metadata": {},
   "source": [
    "# Imports "
   ]
  },
  {
   "cell_type": "code",
   "execution_count": null,
   "metadata": {
    "ExecuteTime": {
     "end_time": "2023-05-29T14:18:15.100080Z",
     "start_time": "2023-05-29T14:18:13.750565Z"
    }
   },
   "outputs": [],
   "source": [
    "import os\n",
    "import numpy as np\n",
    "\n",
    "import torch\n",
    "import torch.utils.data as data\n",
    "\n",
    "import tensorboard\n",
    "from pytorch_lightning import loggers as pl_loggers\n",
    "import pytorch_lightning as pl\n",
    "from pytorch_lightning.callbacks import ModelCheckpoint"
   ]
  },
  {
   "cell_type": "code",
   "execution_count": null,
   "metadata": {
    "ExecuteTime": {
     "end_time": "2023-05-29T14:18:17.943667Z",
     "start_time": "2023-05-29T14:18:15.980319Z"
    }
   },
   "outputs": [],
   "source": [
    "import patch_path\n",
    "import torchcde\n",
    "\n",
    "from mt_code.datasets import load_dataset, P300Dataset \n",
    "from mt_code.models import NeuralCde, OdeLstm, EegNet\n",
    "\n",
    "from mt_code.runners import Learner as IrregularSequenceLearner"
   ]
  },
  {
   "cell_type": "markdown",
   "metadata": {},
   "source": [
    "# Regular Experiments"
   ]
  },
  {
   "cell_type": "markdown",
   "metadata": {},
   "source": [
    "## EEGNET"
   ]
  },
  {
   "cell_type": "code",
   "execution_count": null,
   "metadata": {
    "ExecuteTime": {
     "end_time": "2023-05-28T23:55:27.492610Z",
     "start_time": "2023-05-28T23:55:27.486344Z"
    }
   },
   "outputs": [],
   "source": [
    "checkpoint_callback = ModelCheckpoint(\n",
    "    monitor='val_loss',\n",
    "    mode = 'min',\n",
    "    dirpath='logs/models/demons/EEGNET_reg/',\n",
    "    save_top_k = 3,\n",
    ")"
   ]
  },
  {
   "cell_type": "code",
   "execution_count": null,
   "metadata": {
    "ExecuteTime": {
     "end_time": "2023-05-28T23:55:50.375699Z",
     "start_time": "2023-05-28T23:55:27.901188Z"
    }
   },
   "outputs": [],
   "source": [
    "trainloader, testloader, in_features, num_classes, return_sequences, class_balance = load_dataset(\n",
    "    'p300', \n",
    "    timestamps=False, \n",
    "    coeffs=False, \n",
    "    batch_size=512,  \n",
    "    irregular = False, \n",
    "    data_dir = '../data/demons/nery_demons_dataset'\n",
    ")"
   ]
  },
  {
   "cell_type": "code",
   "execution_count": null,
   "metadata": {
    "ExecuteTime": {
     "end_time": "2023-05-28T23:55:50.384547Z",
     "start_time": "2023-05-28T23:55:50.377828Z"
    }
   },
   "outputs": [],
   "source": [
    "eegnet = EegNet(\n",
    "    input_size =(40, 8), \n",
    "    rate = 50,\n",
    "    F1 = 4,\n",
    "    D = 6,\n",
    ")\n",
    "learn = IrregularSequenceLearner(eegnet, lr=0.1, timestamps=False, class_weights = 1/class_balance)\n"
   ]
  },
  {
   "cell_type": "code",
   "execution_count": null,
   "metadata": {
    "ExecuteTime": {
     "end_time": "2023-05-28T23:58:46.167844Z",
     "start_time": "2023-05-28T23:55:50.386014Z"
    }
   },
   "outputs": [],
   "source": [
    "trainer = pl.Trainer(\n",
    "    max_epochs=10,\n",
    "    progress_bar_refresh_rate=1,\n",
    "    callbacks=[checkpoint_callback],\n",
    "    log_every_n_steps=1,\n",
    "    val_check_interval=0.1,  \n",
    ")\n",
    "trainer.fit(learn, trainloader, val_dataloaders = testloader)\n"
   ]
  },
  {
   "cell_type": "code",
   "execution_count": null,
   "metadata": {
    "ExecuteTime": {
     "end_time": "2023-05-28T23:58:46.189686Z",
     "start_time": "2023-05-28T23:58:46.172187Z"
    }
   },
   "outputs": [],
   "source": [
    "best_path = checkpoint_callback.best_model_path\n",
    "checkpoint = torch.load(best_path)\n",
    "states = {}\n",
    "for k_new, k_old in zip(eegnet.state_dict().keys(), checkpoint['state_dict'].keys()):\n",
    "    states[k_new] = checkpoint['state_dict'].get(k_old)\n",
    "eegnet.load_state_dict(state_dict = states)\n",
    "learn = IrregularSequenceLearner(eegnet, lr=0.05, timestamps=False, class_weights = 1/class_balance)"
   ]
  },
  {
   "cell_type": "code",
   "execution_count": null,
   "metadata": {
    "ExecuteTime": {
     "end_time": "2023-05-28T23:58:47.684217Z",
     "start_time": "2023-05-28T23:58:46.192559Z"
    }
   },
   "outputs": [],
   "source": [
    "results = trainer.test(learn, testloader)\n"
   ]
  },
  {
   "cell_type": "code",
   "execution_count": null,
   "metadata": {
    "ExecuteTime": {
     "end_time": "2023-05-28T23:58:50.153902Z",
     "start_time": "2023-05-28T23:58:47.686368Z"
    }
   },
   "outputs": [],
   "source": [
    "results = trainer.test(learn, trainloader)\n"
   ]
  },
  {
   "cell_type": "markdown",
   "metadata": {},
   "source": [
    "## CDE"
   ]
  },
  {
   "cell_type": "code",
   "execution_count": null,
   "metadata": {
    "ExecuteTime": {
     "end_time": "2023-05-28T23:58:50.159816Z",
     "start_time": "2023-05-28T23:58:50.155956Z"
    }
   },
   "outputs": [],
   "source": [
    "checkpoint_callback = ModelCheckpoint(\n",
    "    monitor='val_loss',\n",
    "    mode = 'min',\n",
    "    dirpath='logs/models/demons/cde_reg/',\n",
    "    save_top_k = 3,\n",
    ")"
   ]
  },
  {
   "cell_type": "code",
   "execution_count": null,
   "metadata": {
    "ExecuteTime": {
     "end_time": "2023-05-28T23:59:14.168193Z",
     "start_time": "2023-05-28T23:58:50.162012Z"
    }
   },
   "outputs": [],
   "source": [
    "trainloader, testloader, in_features, num_classes, return_sequences, class_balance = load_dataset(\n",
    "    'p300', \n",
    "    timestamps=False, \n",
    "    coeffs=True, \n",
    "    irregular = False, \n",
    "    batch_size=1024,  \n",
    "    data_dir = '../data/demons/nery_demons_dataset'\n",
    ")"
   ]
  },
  {
   "cell_type": "code",
   "execution_count": null,
   "metadata": {
    "ExecuteTime": {
     "end_time": "2023-05-29T06:27:06.535876Z",
     "start_time": "2023-05-29T06:27:06.523901Z"
    }
   },
   "outputs": [],
   "source": [
    "cde = NeuralCde(\n",
    "    8,\n",
    "    2,\n",
    "    num_classes,\n",
    "    return_sequences=False\n",
    ")\n",
    "learn = IrregularSequenceLearner(cde, lr=0.05, timestamps=False, class_weights = 1/class_balance)"
   ]
  },
  {
   "cell_type": "code",
   "execution_count": null,
   "metadata": {
    "ExecuteTime": {
     "end_time": "2023-05-29T06:27:07.329113Z",
     "start_time": "2023-05-29T06:27:07.318200Z"
    },
    "scrolled": true
   },
   "outputs": [],
   "source": [
    "trainer = pl.Trainer(\n",
    "    max_epochs=1,\n",
    "    progress_bar_refresh_rate=1,\n",
    "    gradient_clip_val=1000,\n",
    "    callbacks=[checkpoint_callback],\n",
    "    log_every_n_steps=1,\n",
    "    val_check_interval=0.1,    \n",
    ")\n"
   ]
  },
  {
   "cell_type": "code",
   "execution_count": null,
   "metadata": {
    "ExecuteTime": {
     "start_time": "2023-05-29T06:27:08.640Z"
    }
   },
   "outputs": [],
   "source": [
    "trainer.fit(learn, trainloader, val_dataloaders = testloader)"
   ]
  },
  {
   "cell_type": "code",
   "execution_count": null,
   "metadata": {
    "ExecuteTime": {
     "end_time": "2023-05-29T00:14:32.697123Z",
     "start_time": "2023-05-29T00:14:32.697111Z"
    }
   },
   "outputs": [],
   "source": [
    "best_path = checkpoint_callback.best_model_path\n",
    "checkpoint = torch.load(best_path)\n",
    "states = {}\n",
    "for k_new, k_old in zip(cde.state_dict().keys(), checkpoint['state_dict'].keys()):\n",
    "    states[k_new] = checkpoint['state_dict'].get(k_old)\n",
    "cde.load_state_dict(state_dict = states)\n",
    "    "
   ]
  },
  {
   "cell_type": "code",
   "execution_count": null,
   "metadata": {
    "ExecuteTime": {
     "end_time": "2023-05-29T00:14:32.698550Z",
     "start_time": "2023-05-29T00:14:32.698533Z"
    }
   },
   "outputs": [],
   "source": [
    "learn = IrregularSequenceLearner(cde, lr=0.05, timestamps=False,  class_weights = 1/class_balance)\n",
    "\n",
    "results = trainer.test(learn, testloader)"
   ]
  },
  {
   "cell_type": "code",
   "execution_count": null,
   "metadata": {
    "ExecuteTime": {
     "end_time": "2023-05-29T00:14:32.699812Z",
     "start_time": "2023-05-29T00:14:32.699799Z"
    }
   },
   "outputs": [],
   "source": [
    "results = trainer.test(learn, trainloader)"
   ]
  },
  {
   "cell_type": "markdown",
   "metadata": {},
   "source": [
    "### Vis"
   ]
  },
  {
   "cell_type": "code",
   "execution_count": null,
   "metadata": {
    "ExecuteTime": {
     "end_time": "2023-05-28T18:57:52.702247Z",
     "start_time": "2023-05-28T18:57:52.698380Z"
    }
   },
   "outputs": [],
   "source": [
    "import matplotlib.pyplot as plt"
   ]
  },
  {
   "cell_type": "code",
   "execution_count": null,
   "metadata": {
    "ExecuteTime": {
     "end_time": "2023-05-28T18:57:53.530431Z",
     "start_time": "2023-05-28T18:57:53.524110Z"
    }
   },
   "outputs": [],
   "source": [
    "# matplotlib\n",
    "SMALL_SIZE = 15\n",
    "MEDIUM_SIZE = 20\n",
    "BIGGER_SIZE = 30\n",
    "\n",
    "plt.rc('font', size=SMALL_SIZE)  # controls default text sizes\n",
    "plt.rc('axes', titlesize=SMALL_SIZE)  # fontsize of the axes title\n",
    "plt.rc('axes', labelsize=MEDIUM_SIZE)  # fontsize of the x and y labels\n",
    "plt.rc('xtick', labelsize=SMALL_SIZE)  # fontsize of the tick labels\n",
    "plt.rc('ytick', labelsize=SMALL_SIZE)  # fontsize of the tick labels\n",
    "plt.rc('legend', fontsize=SMALL_SIZE)  # legend fontsize\n",
    "plt.rc('figure', titlesize=BIGGER_SIZE)  # fontsize of the figure title"
   ]
  },
  {
   "cell_type": "code",
   "execution_count": null,
   "metadata": {
    "ExecuteTime": {
     "end_time": "2023-05-28T18:58:15.310374Z",
     "start_time": "2023-05-28T18:57:55.232787Z"
    }
   },
   "outputs": [],
   "source": [
    "ds = P300Dataset('../data/demons/nery_demons_dataset')\n",
    "ds.get_data_for_experiments()"
   ]
  },
  {
   "cell_type": "code",
   "execution_count": null,
   "metadata": {
    "ExecuteTime": {
     "end_time": "2023-05-28T18:58:15.315466Z",
     "start_time": "2023-05-28T18:58:15.312781Z"
    }
   },
   "outputs": [],
   "source": [
    "data = (ds.train_x, ds.train_y)"
   ]
  },
  {
   "cell_type": "code",
   "execution_count": null,
   "metadata": {
    "ExecuteTime": {
     "end_time": "2023-05-28T18:58:15.321255Z",
     "start_time": "2023-05-28T18:58:15.318206Z"
    },
    "scrolled": true
   },
   "outputs": [],
   "source": [
    "idc_p300 = np.where(data[1]==1)[0]"
   ]
  },
  {
   "cell_type": "code",
   "execution_count": null,
   "metadata": {
    "ExecuteTime": {
     "end_time": "2023-05-28T18:58:15.327888Z",
     "start_time": "2023-05-28T18:58:15.324122Z"
    }
   },
   "outputs": [],
   "source": [
    "n = 100000\n",
    "x = torch.stack((data[0][idc_p300[301]], data[0][2]))"
   ]
  },
  {
   "cell_type": "code",
   "execution_count": null,
   "metadata": {
    "ExecuteTime": {
     "end_time": "2023-05-28T18:58:35.259519Z",
     "start_time": "2023-05-28T18:58:35.223496Z"
    }
   },
   "outputs": [],
   "source": [
    "c = torchcde.natural_cubic_coeffs(x)\n",
    "X = torchcde.CubicSpline(c)\n",
    "XX = X.evaluate(np.arange(0,x.size(1), x.size(1)/n))"
   ]
  },
  {
   "cell_type": "code",
   "execution_count": null,
   "metadata": {
    "ExecuteTime": {
     "end_time": "2023-05-28T18:58:40.713487Z",
     "start_time": "2023-05-28T18:58:35.764583Z"
    }
   },
   "outputs": [],
   "source": [
    "z0=X.evaluate(0)\n",
    "times = torch.arange(0, x.size(1), x.size(1)/n)\n",
    "z_t = torchcde.cdeint(X=X, z0=z0, func=cde.func, t=times.to(torch.float32))"
   ]
  },
  {
   "cell_type": "code",
   "execution_count": null,
   "metadata": {
    "ExecuteTime": {
     "end_time": "2023-05-28T19:00:36.108798Z",
     "start_time": "2023-05-28T19:00:35.194390Z"
    }
   },
   "outputs": [],
   "source": [
    "time = ds.train_t[0,:]\n",
    "new_time = np.linspace(start=ds.train_t[0,0], stop=ds.train_t[0, -1], num=len(XX[1, :,0]))\n",
    "plt.figure(figsize = (12,8))\n",
    "plt.plot(time, x[0, :, 0], alpha=0.7, label = 'наблюдения сигнала')\n",
    "plt.plot(new_time, XX[0, :,0], alpha=0.7, label = 'интерполяция сингала')\n",
    "plt.plot(new_time, z_t[0, :, 0].detach().numpy(), alpha=0.7, label = 'z(t)')\n",
    "plt.ylabel('амплитуда сигнала, мкВ')\n",
    "plt.xlabel('время, мс')\n",
    "plt.legend()\n",
    "plt.show()"
   ]
  },
  {
   "cell_type": "code",
   "execution_count": null,
   "metadata": {
    "ExecuteTime": {
     "end_time": "2023-05-28T19:00:51.599344Z",
     "start_time": "2023-05-28T19:00:50.794121Z"
    }
   },
   "outputs": [],
   "source": [
    "time = ds.train_t[0,:]\n",
    "new_time = np.linspace(start=ds.train_t[0,0], stop=ds.train_t[0, -1], num=len(XX[1, :,0]))\n",
    "plt.figure(figsize = (12,8))\n",
    "plt.plot(time, x[1, :, 0], alpha=0.7, label = 'наблюдения сигнала')\n",
    "plt.plot(new_time, XX[1, :,0], alpha=0.7, label = 'интерполяция сингала')\n",
    "plt.plot(new_time, z_t[1, :, 0].detach().numpy(), alpha=0.7, label = 'z(t)')\n",
    "plt.ylabel('амплитуда сигнала, мкВ')\n",
    "plt.xlabel('время, мс')\n",
    "plt.legend()\n",
    "plt.show()"
   ]
  },
  {
   "cell_type": "markdown",
   "metadata": {
    "heading_collapsed": true
   },
   "source": [
    "## ODELSTM"
   ]
  },
  {
   "cell_type": "code",
   "execution_count": null,
   "metadata": {
    "ExecuteTime": {
     "start_time": "2023-05-28T21:00:41.332Z"
    },
    "hidden": true
   },
   "outputs": [],
   "source": [
    "checkpoint_callback = ModelCheckpoint(\n",
    "    monitor='val_f1',\n",
    "    mode = 'max',\n",
    "    dirpath='logs/models/demons/odelstm_reg/',\n",
    "    save_top_k = 3,\n",
    ")"
   ]
  },
  {
   "cell_type": "code",
   "execution_count": null,
   "metadata": {
    "ExecuteTime": {
     "start_time": "2023-05-28T21:00:41.542Z"
    },
    "hidden": true
   },
   "outputs": [],
   "source": [
    "trainloader, testloader, in_features, num_classes, return_sequences, class_balance = load_dataset(\n",
    "    'p300', \n",
    "    timestamps=True, \n",
    "    coeffs=False, \n",
    "    irregular = False, \n",
    "    batch_size=512,  \n",
    "    data_dir = '../data/demons/nery_demons_dataset'\n",
    ")"
   ]
  },
  {
   "cell_type": "code",
   "execution_count": null,
   "metadata": {
    "ExecuteTime": {
     "start_time": "2023-05-28T21:00:41.795Z"
    },
    "hidden": true
   },
   "outputs": [],
   "source": [
    "olstm = OdeLstm(\n",
    "    8,\n",
    "    8,\n",
    "    num_classes,\n",
    "    return_sequences=False\n",
    ")\n",
    "\n",
    "learn = IrregularSequenceLearner(olstm, lr=0.05, timestamps=True, class_weights = 1/class_balance)"
   ]
  },
  {
   "cell_type": "code",
   "execution_count": null,
   "metadata": {
    "ExecuteTime": {
     "start_time": "2023-05-28T21:00:42.846Z"
    },
    "hidden": true
   },
   "outputs": [],
   "source": [
    "trainer = pl.Trainer(\n",
    "    max_epochs=5,\n",
    "    progress_bar_refresh_rate=1,\n",
    "    gradient_clip_val=1000,\n",
    "    callbacks=[checkpoint_callback],\n",
    "    log_every_n_steps=1,\n",
    "    val_check_interval=0.05, \n",
    ")\n",
    "\n",
    "trainer.fit(learn, trainloader, val_dataloaders = testloader)"
   ]
  },
  {
   "cell_type": "code",
   "execution_count": null,
   "metadata": {
    "ExecuteTime": {
     "start_time": "2023-05-28T21:00:44.331Z"
    },
    "hidden": true
   },
   "outputs": [],
   "source": [
    "best_path = checkpoint_callback.best_model_path\n",
    "\n",
    "checkpoint = torch.load(best_path)\n",
    "states = {}\n",
    "for k_new, k_old in zip(olstm.state_dict().keys(), checkpoint['state_dict'].keys()):\n",
    "    states[k_new] = checkpoint['state_dict'].get(k_old)\n",
    "olstm.load_state_dict(state_dict = states)\n",
    "\n",
    "learn = IrregularSequenceLearner(olstm, lr=0.05, timestamps=True, class_weights = 1/class_balance)\n",
    "results = trainer.test(learn, testloader)"
   ]
  },
  {
   "cell_type": "code",
   "execution_count": null,
   "metadata": {
    "ExecuteTime": {
     "start_time": "2023-05-28T21:00:47.916Z"
    },
    "hidden": true
   },
   "outputs": [],
   "source": [
    "results = trainer.test(learn, trainloader)\n"
   ]
  },
  {
   "cell_type": "markdown",
   "metadata": {},
   "source": [
    "# Irregular experiments "
   ]
  },
  {
   "cell_type": "markdown",
   "metadata": {},
   "source": [
    "## EEGNET"
   ]
  },
  {
   "cell_type": "code",
   "execution_count": null,
   "metadata": {
    "ExecuteTime": {
     "end_time": "2023-05-29T00:14:32.701206Z",
     "start_time": "2023-05-29T00:14:32.701170Z"
    }
   },
   "outputs": [],
   "source": [
    "checkpoint_callback = ModelCheckpoint(\n",
    "    monitor='val_loss',\n",
    "    mode = 'max',\n",
    "    dirpath='logs/models/demons/EEGNET_irreg/',\n",
    "    save_top_k = 3,\n",
    ")"
   ]
  },
  {
   "cell_type": "code",
   "execution_count": null,
   "metadata": {
    "ExecuteTime": {
     "end_time": "2023-05-29T00:14:32.702142Z",
     "start_time": "2023-05-29T00:14:32.702131Z"
    }
   },
   "outputs": [],
   "source": [
    "trainloader, testloader, in_features, num_classes, return_sequences, class_balance = load_dataset(\n",
    "    'p300', \n",
    "    timestamps=False, \n",
    "    coeffs=False, \n",
    "    batch_size=1024,  \n",
    "    irregular = True, \n",
    "    data_dir = '../data/demons/nery_demons_dataset'\n",
    ")\n",
    "\n"
   ]
  },
  {
   "cell_type": "code",
   "execution_count": null,
   "metadata": {
    "ExecuteTime": {
     "end_time": "2023-05-29T00:14:32.705222Z",
     "start_time": "2023-05-29T00:14:32.705204Z"
    }
   },
   "outputs": [],
   "source": [
    "eegnet = EegNet(\n",
    "    input_size =(32, 8), \n",
    "    rate = 50,\n",
    "    F1 = 2,\n",
    "    D = 4,\n",
    ")\n",
    "learn = IrregularSequenceLearner(eegnet, lr=0.05, timestamps=False, class_weights = 1/class_balance)\n"
   ]
  },
  {
   "cell_type": "code",
   "execution_count": null,
   "metadata": {
    "ExecuteTime": {
     "end_time": "2023-05-29T00:14:32.706269Z",
     "start_time": "2023-05-29T00:14:32.706258Z"
    }
   },
   "outputs": [],
   "source": [
    "trainer = pl.Trainer(\n",
    "    max_epochs=10,\n",
    "    progress_bar_refresh_rate=1,\n",
    "    callbacks=[checkpoint_callback],\n",
    "    gradient_clip_val=1000,\n",
    "    log_every_n_steps=1,\n",
    "    val_check_interval=0.1,  \n",
    ")\n",
    "trainer.fit(learn, trainloader, val_dataloaders = testloader)"
   ]
  },
  {
   "cell_type": "code",
   "execution_count": null,
   "metadata": {
    "ExecuteTime": {
     "end_time": "2023-05-29T00:14:32.707326Z",
     "start_time": "2023-05-29T00:14:32.707309Z"
    }
   },
   "outputs": [],
   "source": [
    "best_path = checkpoint_callback.best_model_path\n",
    "checkpoint = torch.load(best_path)\n",
    "states = {}\n",
    "for k_new, k_old in zip(eegnet.state_dict().keys(), checkpoint['state_dict'].keys()):\n",
    "    states[k_new] = checkpoint['state_dict'].get(k_old)\n",
    "eegnet.load_state_dict(state_dict = states)\n",
    "learn = IrregularSequenceLearner(eegnet, lr=0.05, timestamps=False, class_weights = 1/class_balance)\n",
    "results = trainer.test(learn, testloader)\n"
   ]
  },
  {
   "cell_type": "code",
   "execution_count": null,
   "metadata": {
    "ExecuteTime": {
     "end_time": "2023-05-29T00:14:32.708448Z",
     "start_time": "2023-05-29T00:14:32.708434Z"
    }
   },
   "outputs": [],
   "source": [
    "results = trainer.test(learn, trainloader)\n"
   ]
  },
  {
   "cell_type": "markdown",
   "metadata": {},
   "source": [
    "## NCDE"
   ]
  },
  {
   "cell_type": "code",
   "execution_count": null,
   "metadata": {
    "ExecuteTime": {
     "end_time": "2023-05-29T00:14:32.709584Z",
     "start_time": "2023-05-29T00:14:32.709572Z"
    }
   },
   "outputs": [],
   "source": [
    "checkpoint_callback = ModelCheckpoint(\n",
    "    monitor='val_loss',\n",
    "    mode = 'min',\n",
    "    dirpath='logs/models/demons/cde_irr/',\n",
    "    save_top_k = 3,\n",
    ")"
   ]
  },
  {
   "cell_type": "code",
   "execution_count": null,
   "metadata": {
    "ExecuteTime": {
     "end_time": "2023-05-29T00:14:32.710758Z",
     "start_time": "2023-05-29T00:14:32.710747Z"
    }
   },
   "outputs": [],
   "source": [
    "trainloader, testloader, in_features, num_classes, return_sequences, class_balance = load_dataset(\n",
    "    'p300', \n",
    "    timestamps=False, \n",
    "    coeffs=True, \n",
    "    irregular = True, \n",
    "    batch_size=1024,  \n",
    "    data_dir = '../data/demons/nery_demons_dataset'\n",
    ")"
   ]
  },
  {
   "cell_type": "code",
   "execution_count": null,
   "metadata": {
    "ExecuteTime": {
     "end_time": "2023-05-29T00:14:32.711920Z",
     "start_time": "2023-05-29T00:14:32.711902Z"
    }
   },
   "outputs": [],
   "source": [
    "cde = NeuralCde(\n",
    "    8,\n",
    "    8,\n",
    "    num_classes,\n",
    "    return_sequences=False\n",
    ")\n",
    "\n",
    "learn = IrregularSequenceLearner(cde, lr=0.05, timestamps=False, class_weights = 1/class_balance)"
   ]
  },
  {
   "cell_type": "code",
   "execution_count": null,
   "metadata": {
    "ExecuteTime": {
     "end_time": "2023-05-29T00:05:31.995700Z",
     "start_time": "2023-05-29T00:05:31.995686Z"
    }
   },
   "outputs": [],
   "source": [
    "trainer = pl.Trainer(\n",
    "    max_epochs=5,\n",
    "    progress_bar_refresh_rate=1,\n",
    "    gradient_clip_val=1000,\n",
    "    callbacks=[checkpoint_callback],\n",
    "    log_every_n_steps=1,\n",
    "    val_check_interval=0.02,   \n",
    ")\n",
    "\n",
    "trainer.fit(learn, trainloader, val_dataloaders = testloader)"
   ]
  },
  {
   "cell_type": "code",
   "execution_count": null,
   "metadata": {
    "ExecuteTime": {
     "end_time": "2023-05-29T00:05:31.996593Z",
     "start_time": "2023-05-29T00:05:31.996582Z"
    }
   },
   "outputs": [],
   "source": [
    "best_path = checkpoint_callback.best_model_path\n",
    "checkpoint = torch.load(best_path)\n",
    "states = {}\n",
    "for k_new, k_old in zip(cde.state_dict().keys(), checkpoint['state_dict'].keys()):\n",
    "    states[k_new] = checkpoint['state_dict'].get(k_old)\n",
    "cde.load_state_dict(state_dict = states)\n",
    "    \n",
    "\n",
    "learn = IrregularSequenceLearner(cde, lr=0.01, timestamps=False,  class_weights = 1/class_balance)\n",
    "\n",
    "results = trainer.test(learn, testloader)"
   ]
  },
  {
   "cell_type": "code",
   "execution_count": null,
   "metadata": {
    "ExecuteTime": {
     "end_time": "2023-05-29T00:05:31.997624Z",
     "start_time": "2023-05-29T00:05:31.997607Z"
    }
   },
   "outputs": [],
   "source": [
    "results = trainer.test(learn, trainloader)\n"
   ]
  },
  {
   "cell_type": "markdown",
   "metadata": {},
   "source": [
    "## ODELSTM"
   ]
  },
  {
   "cell_type": "code",
   "execution_count": null,
   "metadata": {
    "ExecuteTime": {
     "start_time": "2023-05-28T21:01:04.086Z"
    }
   },
   "outputs": [],
   "source": [
    "checkpoint_callback = ModelCheckpoint(\n",
    "    monitor='val_f1',\n",
    "    mode = 'max',\n",
    "    dirpath='logs/models/demons/odelstm_irr/',\n",
    "    save_top_k = 3,\n",
    ")\n",
    "\n"
   ]
  },
  {
   "cell_type": "code",
   "execution_count": null,
   "metadata": {
    "ExecuteTime": {
     "start_time": "2023-05-28T21:01:04.386Z"
    }
   },
   "outputs": [],
   "source": [
    "trainloader, testloader, in_features, num_classes, return_sequences, class_balance = load_dataset(\n",
    "    'p300', timestamps=True, coeffs=False, irregular = False, batch_size=512,  data_dir = '../data/demons/nery_demons_dataset')\n",
    "\n"
   ]
  },
  {
   "cell_type": "code",
   "execution_count": null,
   "metadata": {
    "ExecuteTime": {
     "start_time": "2023-05-28T21:01:05.111Z"
    }
   },
   "outputs": [],
   "source": [
    "olstm = OdeLstm(\n",
    "    8,\n",
    "    8,\n",
    "    num_classes,\n",
    "    return_sequences=False\n",
    ")\n",
    "learn = IrregularSequenceLearner(olstm, lr=0.05, timestamps=True, class_weights = 1/class_balance)\n",
    "\n",
    "\n",
    "\n",
    "\n"
   ]
  },
  {
   "cell_type": "code",
   "execution_count": null,
   "metadata": {
    "ExecuteTime": {
     "start_time": "2023-05-28T21:01:07.596Z"
    }
   },
   "outputs": [],
   "source": [
    "trainer = pl.Trainer(\n",
    "    max_epochs=5,\n",
    "    progress_bar_refresh_rate=1,\n",
    "    gradient_clip_val=1,\n",
    "    callbacks=[checkpoint_callback]\n",
    "    \n",
    ")\n",
    "trainer.fit(learn, trainloader, val_dataloaders = testloader)\n",
    "\n",
    "\n"
   ]
  },
  {
   "cell_type": "code",
   "execution_count": null,
   "metadata": {
    "ExecuteTime": {
     "start_time": "2023-05-28T21:01:09.083Z"
    }
   },
   "outputs": [],
   "source": [
    "\n",
    "checkpoint = torch.load(best_path)\n",
    "states = {}\n",
    "for k_new, k_old in zip(olstm.state_dict().keys(), checkpoint['state_dict'].keys()):\n",
    "    states[k_new] = checkpoint['state_dict'].get(k_old)\n",
    "olstm.load_state_dict(state_dict = states)\n",
    "\n",
    "learn = IrregularSequenceLearner(olstm, lr=0.05, timestamps=True, class_weights = 1/class_balance)\n",
    "\n",
    "results = trainer.test(learn, testloader)\n",
    "\n"
   ]
  },
  {
   "cell_type": "code",
   "execution_count": null,
   "metadata": {
    "ExecuteTime": {
     "start_time": "2023-05-28T21:01:12.533Z"
    }
   },
   "outputs": [],
   "source": [
    "results = trainer.test(learn, trainloader)\n"
   ]
  },
  {
   "cell_type": "code",
   "execution_count": null,
   "metadata": {},
   "outputs": [],
   "source": []
  }
 ],
 "metadata": {
  "hide_input": false,
  "kernelspec": {
   "display_name": "node",
   "language": "python",
   "name": "node"
  },
  "language_info": {
   "codemirror_mode": {
    "name": "ipython",
    "version": 3
   },
   "file_extension": ".py",
   "mimetype": "text/x-python",
   "name": "python",
   "nbconvert_exporter": "python",
   "pygments_lexer": "ipython3",
   "version": "3.8.11"
  },
  "toc": {
   "base_numbering": 1,
   "nav_menu": {},
   "number_sections": true,
   "sideBar": true,
   "skip_h1_title": false,
   "title_cell": "Table of Contents",
   "title_sidebar": "Contents",
   "toc_cell": false,
   "toc_position": {
    "height": "calc(100% - 180px)",
    "left": "10px",
    "top": "150px",
    "width": "165px"
   },
   "toc_section_display": true,
   "toc_window_display": true
  }
 },
 "nbformat": 4,
 "nbformat_minor": 4
}
